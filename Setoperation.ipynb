{
 "cells": [
  {
   "cell_type": "markdown",
   "metadata": {},
   "source": [
    "Problem 1: Set of Natural Numbers Less Than 5\n",
    "Set-Builder Form:\n",
    "\n",
    "### A = {x∣x∈N,x<5}"
   ]
  },
  {
   "cell_type": "code",
   "execution_count": 2,
   "metadata": {},
   "outputs": [
    {
     "name": "stdout",
     "output_type": "stream",
     "text": [
      "[1, 2, 3, 4]\n"
     ]
    }
   ],
   "source": [
    "A = [x for x in range (1,5,1)]\n",
    "print(A)"
   ]
  },
  {
   "cell_type": "markdown",
   "metadata": {},
   "source": [
    "Problem 2: Set of Even Numbers Less Than 10\n",
    "Set-Builder Form:\n",
    "\n",
    "𝐵 =\n",
    "{\n",
    "𝑥\n",
    "∣\n",
    "𝑥\n",
    "∈\n",
    "𝑁\n",
    ",\n",
    "𝑥\n",
    " is even and \n",
    "𝑥\n",
    "<\n",
    "10\n",
    "}\n"
   ]
  },
  {
   "cell_type": "code",
   "execution_count": 5,
   "metadata": {},
   "outputs": [
    {
     "name": "stdout",
     "output_type": "stream",
     "text": [
      "[2, 4, 6, 8]\n"
     ]
    }
   ],
   "source": [
    "B = [x for x in range (2,10,2)]\n",
    "print(B)"
   ]
  },
  {
   "cell_type": "markdown",
   "metadata": {},
   "source": [
    "Problem 3: Set of Odd Numbers Less Than 10\n",
    "Set-Builder Form:\n",
    "\n",
    "𝐶 =\n",
    "{\n",
    "𝑥\n",
    "∣\n",
    "𝑥\n",
    "∈\n",
    "𝑁\n",
    ",\n",
    "𝑥\n",
    " is odd and \n",
    "𝑥\n",
    "<\n",
    "10\n",
    "}\n"
   ]
  },
  {
   "cell_type": "code",
   "execution_count": 10,
   "metadata": {},
   "outputs": [
    {
     "name": "stdout",
     "output_type": "stream",
     "text": [
      "[1, 3, 5, 7, 9]\n",
      "[1, 3, 5, 7, 9]\n"
     ]
    }
   ],
   "source": [
    "C = [x for x in range(1,10,2)]\n",
    "print(C)\n",
    "\n",
    "print(list(filter(lambda x: x % 2 != 0, range(1,10))))\n"
   ]
  },
  {
   "cell_type": "markdown",
   "metadata": {},
   "source": [
    "Problem 4: Set of Multiples of 3 Less Than 20\n",
    "Set-Builder Form:\n",
    "\n",
    "\n",
    "D={x∣x=3n,n∈N,x<20}"
   ]
  },
  {
   "cell_type": "code",
   "execution_count": 12,
   "metadata": {},
   "outputs": [
    {
     "name": "stdout",
     "output_type": "stream",
     "text": [
      "[3, 6, 9, 12, 15, 18]\n",
      "[3, 6, 9, 12, 15, 18]\n"
     ]
    }
   ],
   "source": [
    "\n",
    "print([x for x in range(3, 20, 3)])\n",
    "D = list(filter(lambda x: x % 3 == 0, range(3, 20)))\n",
    "print(D)"
   ]
  },
  {
   "cell_type": "markdown",
   "metadata": {},
   "source": [
    "Problem 5: Set of Square Numbers Less Than 50\n",
    "Set-Builder Form:\n",
    "\n",
    "\n",
    "E={x∣x=n **\n",
    "2\n",
    " ,n∈N,x<50}"
   ]
  },
  {
   "cell_type": "code",
   "execution_count": 15,
   "metadata": {},
   "outputs": [
    {
     "name": "stdout",
     "output_type": "stream",
     "text": [
      "[1, 4, 9, 16, 25, 36, 49]\n"
     ]
    }
   ],
   "source": [
    "print([x**2 for x in range(1,50) if x**2 < 50])\n"
   ]
  },
  {
   "cell_type": "markdown",
   "metadata": {},
   "source": [
    " Set of Prime Numbers Less Than 20\n",
    "Set-Builder Form:\n",
    "\n",
    "\n",
    "F = {x∣x is prime and x<20}\n"
   ]
  },
  {
   "cell_type": "markdown",
   "metadata": {},
   "source": [
    "print([x %  for x in range(1,50) if x**2 < 50])"
   ]
  },
  {
   "cell_type": "code",
   "execution_count": null,
   "metadata": {},
   "outputs": [],
   "source": [
    "x=90\n",
    "\n",
    "if (x >= 90):\n",
    "\n",
    "    print(\"Grade O\")\n",
    "\n",
    "else:\n",
    "\n",
    "    if (x >= 80):\n",
    "\n",
    "        print(\"Grade A\")\n",
    "\n",
    "    else:\n",
    "\n",
    "        if (x >= 70):\n",
    "\n",
    "            print(\"Grade B\")\n",
    "\n",
    "        else:\n",
    "\n",
    "            if (x >= 60):\n",
    "\n",
    "                print(\"Grade C\")"
   ]
  },
  {
   "cell_type": "markdown",
   "metadata": {},
   "source": []
  }
 ],
 "metadata": {
  "kernelspec": {
   "display_name": "lpu",
   "language": "python",
   "name": "python3"
  },
  "language_info": {
   "codemirror_mode": {
    "name": "ipython",
    "version": 3
   },
   "file_extension": ".py",
   "mimetype": "text/x-python",
   "name": "python",
   "nbconvert_exporter": "python",
   "pygments_lexer": "ipython3",
   "version": "3.9.19"
  }
 },
 "nbformat": 4,
 "nbformat_minor": 2
}
